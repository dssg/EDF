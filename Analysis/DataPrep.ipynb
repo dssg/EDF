{
 "metadata": {
  "name": "DataPrep"
 },
 "nbformat": 3,
 "nbformat_minor": 0,
 "worksheets": [
  {
   "cells": [
    {
     "cell_type": "markdown",
     "metadata": {},
     "source": [
      "###Take Wide-formatted excel worksheets, transpose, append, and turn into single DataFrame\n"
     ]
    },
    {
     "cell_type": "code",
     "collapsed": false,
     "input": [
      "import pandas as pd\n",
      "import numpy as np\n",
      "import matplotlib.pyplot as plt\n",
      "\n",
      "loadpath = '/Users/matthewgee/Data/Energy/EDF/Cleaned/Q1_2011_TO_Q4_2012_061013_Modified_Ready.xlsx'\n",
      "savepath = '/Users/matthewgee/Data/Energy/EDF/Cleaned/'"
     ],
     "language": "python",
     "metadata": {},
     "outputs": [],
     "prompt_number": 9
    },
    {
     "cell_type": "markdown",
     "metadata": {},
     "source": [
      "Read in Excel files and parse sheets"
     ]
    },
    {
     "cell_type": "code",
     "collapsed": false,
     "input": [
      "xls_file = pd.ExcelFile(loadpath)\n",
      "sheet = xls_file.parse('Q4 2012')\n",
      "sheet\n",
      "#test = pd.DataFrame(sheet)\n",
      "\n",
      "#sheet.swapaxes()\n",
      "#test.summary()\n"
     ],
     "language": "python",
     "metadata": {},
     "outputs": [
      {
       "output_type": "pyout",
       "prompt_number": 19,
       "text": [
        "<class 'pandas.core.frame.DataFrame'>\n",
        "Index: 4 entries, count to freq\n",
        "Columns: 474 entries, Year_Project_Number to Project 73.2\n",
        "dtypes: float64(472), object(2)"
       ]
      }
     ],
     "prompt_number": 19
    },
    {
     "cell_type": "code",
     "collapsed": false,
     "input": [
      "xls_file = pd.ExcelFile(loadpath)\n",
      "\n",
      "sheetnames = ['Q1 2011', 'Q2 2011','Q3 2011','Q4 2011','Q1 2012','Q2 2012','Q3 2012','Q4 2012']\n",
      "\n",
      "for sheet in sheetnames:\n",
      "    sheet = xls_file.parse(sheet)\n",
      "    "
     ],
     "language": "python",
     "metadata": {},
     "outputs": []
    }
   ],
   "metadata": {}
  }
 ]
}